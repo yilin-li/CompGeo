{
 "cells": [
  {
   "cell_type": "code",
   "execution_count": 1,
   "metadata": {
    "collapsed": true
   },
   "outputs": [],
   "source": [
    "import numpy as np\n",
    "from operator import itemgetter\n",
    "import matplotlib.pyplot as plt\n"
   ]
  },
  {
   "cell_type": "code",
   "execution_count": 29,
   "metadata": {
    "collapsed": true
   },
   "outputs": [],
   "source": [
    "def pt_above(pt, line_pts):\n",
    "# 1 if above, 0 or -1 if otherwise\n",
    "    x = pt[0]\n",
    "    y = pt[1]\n",
    "\n",
    "    lmpt = line_pts[0]\n",
    "    rmpt = line_pts[1]\n",
    "\n",
    "    array = np.array([\n",
    "        [lmpt[0] - x, lmpt[1] - y],\n",
    "        [rmpt[0] - x, rmpt[1] - y],\n",
    "        ])\n",
    "    det = np.linalg.det(array)\n",
    "    sign = np.sign(det)\n",
    "    return sign"
   ]
  },
  {
   "cell_type": "code",
   "execution_count": 3,
   "metadata": {
    "collapsed": true
   },
   "outputs": [],
   "source": [
    "def ccwArrange(pts):\n",
    "    #find the dissection line\n",
    "    lm_pt, lm_x, rm_pt, rm_x = None,None,None,None\n",
    "\n",
    "    for pt in pts:\n",
    "        x = pt[0]\n",
    "        if lm_x == None or x < lm_x:\n",
    "            lm_x = x\n",
    "            lm_pt = pt\n",
    "        if rm_x == None or x > rm_x:\n",
    "            rm_x = x\n",
    "            rm_pt = pt\n",
    "\n",
    "    top, bot = [],[]\n",
    "    for pt in pts:\n",
    "        gp = pt_above(pt, [lm_pt,rm_pt])\n",
    "        if gp < 1:\n",
    "                bot.append(pt)\n",
    "        elif gp == 1:\n",
    "                top.append(pt)\n",
    "\n",
    "    bot.sort(key=itemgetter(0))\n",
    "    top.sort(key=itemgetter(0), reverse=True)\n",
    "\n",
    "    return bot+top\n",
    "    \n",
    "\n",
    "    "
   ]
  },
  {
   "cell_type": "code",
   "execution_count": 4,
   "metadata": {
    "collapsed": true
   },
   "outputs": [],
   "source": [
    "def coorToSeparateList(ptsList):\n",
    "    x = []\n",
    "    y = []\n",
    "    for pt in ptsList:\n",
    "        x.append(pt[0])\n",
    "        y.append(pt[1])\n",
    "    return x, y"
   ]
  },
  {
   "cell_type": "code",
   "execution_count": 5,
   "metadata": {
    "collapsed": true
   },
   "outputs": [],
   "source": [
    "def midpointTransform(xprev, yprev):\n",
    "    xcurr = []\n",
    "    ycurr = []\n",
    "    size = len(xprev)-1\n",
    "    for n in range(size):\n",
    "        xmid = (xprev[n]+xprev[n+1])/2\n",
    "        xcurr.append(xmid)\n",
    "        ymid = (yprev[n]+yprev[n+1])/2\n",
    "        ycurr.append(ymid)\n",
    "    xcurr.append((xprev[0]+xprev[-1])/2)\n",
    "    ycurr.append((yprev[0]+yprev[-1])/2)\n",
    "    return xcurr, ycurr"
   ]
  },
  {
   "cell_type": "code",
   "execution_count": 23,
   "metadata": {
    "collapsed": true
   },
   "outputs": [],
   "source": [
    "def main(pts, numIter, is_ccw=True, set_x_min = 0, set_x_max = 10,set_y_min = 0, set_y_max = 10, show_last = False):\n",
    "#   convert to float\n",
    "    pts = [[float(pt[0]),float(pt[1])] for pt in pts]\n",
    "#  arrange into a ccw non-intersecting polygon. \n",
    "    if not is_ccw:\n",
    "        pts = ccwArrange(pts)\n",
    "    \n",
    "    numVertex = len(pts)\n",
    "    xprev, yprev = coorToSeparateList(pts)\n",
    "    \n",
    "    fig, ax = plt.subplots(sharex=True, sharey=True)\n",
    "    ax.set_xlim(set_x_min,set_x_max)\n",
    "    ax.set_ylim(set_y_min,set_y_max)\n",
    "    if (numIter==0) or (not show_last):\n",
    "        ax.plot(xprev, yprev, c='b', alpha=0.8)\n",
    "        ax.plot([xprev[0], xprev[-1]], [yprev[0], yprev[-1]], c='b', alpha=0.8)\n",
    "   \n",
    "    for i in range(numIter):\n",
    "        xcurr, ycurr = midpointTransform(xprev, yprev)\n",
    "        xprev, yprev = xcurr, ycurr\n",
    "        if not show_last:\n",
    "            ax.plot(xcurr, ycurr, c='b', alpha=0.8)\n",
    "            ax.plot([xcurr[0], xcurr[-1]], [ycurr[0], ycurr[-1]], c='b', alpha=0.8)\n",
    "    if (show_last) and (numIter!=0):\n",
    "        ax.plot(xcurr, ycurr, c='b', alpha=0.8)\n",
    "        ax.plot([xcurr[0], xcurr[-1]], [ycurr[0], ycurr[-1]], c='b', alpha=0.8)\n",
    "                 \n",
    "    plt.show()\n",
    "\n"
   ]
  },
  {
   "cell_type": "code",
   "execution_count": 38,
   "metadata": {},
   "outputs": [
    {
     "data": {
      "image/png": "[encoded data removed]",
      "text/plain": [
       "<matplotlib.figure.Figure at 0x10d8632b0>"
      ]
     },
     "metadata": {},
     "output_type": "display_data"
    }
   ],
   "source": [
    "# [x,y] coordinates in a list\n",
    "# if the input points are not in ccw order, set is_ccw=False, \n",
    "# to show only the result of the last iteration, set show_last=True\n",
    "# example, vert = [[3,2],[1,1],[4,3],[2,5],[2,2]]\n",
    "vert = np.random.rand(15,2).tolist()\n",
    "main(vert,5, is_ccw = False, set_x_max = 1, set_y_max = 1, show_last = False)"
   ]
  }
 ],
 "metadata": {
  "kernelspec": {
   "display_name": "Python 3",
   "language": "python",
   "name": "python3"
  },
  "language_info": {
   "codemirror_mode": {
    "name": "ipython",
    "version": 3
   },
   "file_extension": ".py",
   "mimetype": "text/x-python",
   "name": "python",
   "nbconvert_exporter": "python",
   "pygments_lexer": "ipython3",
   "version": "3.6.1"
  }
 },
 "nbformat": 4,
 "nbformat_minor": 2
}
